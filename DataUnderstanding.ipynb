{
  "nbformat": 4,
  "nbformat_minor": 0,
  "metadata": {
    "colab": {
      "provenance": [],
      "authorship_tag": "ABX9TyPK8T9yW3mvsHjZhXCwdvpq",
      "include_colab_link": true
    },
    "kernelspec": {
      "name": "python3",
      "display_name": "Python 3"
    },
    "language_info": {
      "name": "python"
    }
  },
  "cells": [
    {
      "cell_type": "markdown",
      "metadata": {
        "id": "view-in-github",
        "colab_type": "text"
      },
      "source": [
        "<a href=\"https://colab.research.google.com/github/angiellanos/Prediccion_de_reservas/blob/main/DataUnderstanding.ipynb\" target=\"_parent\"><img src=\"https://colab.research.google.com/assets/colab-badge.svg\" alt=\"Open In Colab\"/></a>"
      ]
    },
    {
      "cell_type": "markdown",
      "source": [
        "# UNIVERSIDAD NACIONAL DE COLOMBIA\n",
        "## Aprendizaje de máquinas para finanzas y actuaría (2023-II)\n",
        "#### Angie Eloisa Llanos"
      ],
      "metadata": {
        "id": "grIC0C5rQx9H"
      }
    },
    {
      "cell_type": "markdown",
      "source": [
        "Today we are gonna talk about Data Understanding\n"
      ],
      "metadata": {
        "id": "YRGuV1oNNT4p"
      }
    },
    {
      "cell_type": "code",
      "source": [],
      "metadata": {
        "id": "7YoWQGCQNcOg"
      },
      "execution_count": null,
      "outputs": []
    },
    {
      "cell_type": "markdown",
      "source": [],
      "metadata": {
        "id": "-SH4ig8WQz9Q"
      }
    }
  ]
}