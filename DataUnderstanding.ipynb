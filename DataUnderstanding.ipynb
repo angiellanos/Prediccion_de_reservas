{
  "nbformat": 4,
  "nbformat_minor": 0,
  "metadata": {
    "colab": {
      "provenance": [],
      "authorship_tag": "ABX9TyPoWOceuI3+znqUDsfLHUJu",
      "include_colab_link": true
    },
    "kernelspec": {
      "name": "python3",
      "display_name": "Python 3"
    },
    "language_info": {
      "name": "python"
    }
  },
  "cells": [
    {
      "cell_type": "markdown",
      "metadata": {
        "id": "view-in-github",
        "colab_type": "text"
      },
      "source": [
        "<a href=\"https://colab.research.google.com/github/angiellanos/Prediccion_de_reservas/blob/main/DataUnderstanding.ipynb\" target=\"_parent\"><img src=\"https://colab.research.google.com/assets/colab-badge.svg\" alt=\"Open In Colab\"/></a>"
      ]
    },
    {
      "cell_type": "code",
      "execution_count": null,
      "metadata": {
        "id": "6FxrOnw9MhIq"
      },
      "outputs": [],
      "source": []
    },
    {
      "cell_type": "markdown",
      "source": [
        "Today we are gonna talk about Data Understanding\n"
      ],
      "metadata": {
        "id": "YRGuV1oNNT4p"
      }
    },
    {
      "cell_type": "code",
      "source": [],
      "metadata": {
        "id": "7YoWQGCQNcOg"
      },
      "execution_count": null,
      "outputs": []
    }
  ]
}